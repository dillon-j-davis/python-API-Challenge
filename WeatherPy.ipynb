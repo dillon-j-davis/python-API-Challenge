{
 "cells": [
  {
   "cell_type": "markdown",
   "metadata": {},
   "source": [
    "# WeatherPy\n",
    "----\n",
    "\n",
    "#### Note\n",
    "* Instructions have been included for each segment. You do not have to follow them exactly, but they are included to help you think through the steps."
   ]
  },
  {
   "cell_type": "code",
   "execution_count": 1,
   "metadata": {
    "scrolled": true
   },
   "outputs": [],
   "source": [
    "# Dependencies and Setup\n",
    "import matplotlib.pyplot as plt\n",
    "import pandas as pd\n",
    "import numpy as np\n",
    "import requests\n",
    "import json\n",
    "import time\n",
    "from scipy.stats import linregress\n",
    "\n",
    "# Import API key\n",
    "from api_keys import weather_api_key\n",
    "\n",
    "# Incorporated citipy to determine city based on latitude and longitude\n",
    "from citipy import citipy\n",
    "\n",
    "# Output File (CSV)\n",
    "output_data_file = \"output_data/cities.csv\"\n",
    "\n",
    "# Range of latitudes and longitudes\n",
    "lat_range = (-90, 90)\n",
    "lng_range = (-180, 180)"
   ]
  },
  {
   "cell_type": "markdown",
   "metadata": {},
   "source": [
    "## Generate Cities List"
   ]
  },
  {
   "cell_type": "code",
   "execution_count": 2,
   "metadata": {},
   "outputs": [
    {
     "data": {
      "text/plain": [
       "622"
      ]
     },
     "execution_count": 2,
     "metadata": {},
     "output_type": "execute_result"
    }
   ],
   "source": [
    "# List for holding lat_lngs and cities\n",
    "lat_lngs = []\n",
    "cities = []\n",
    "\n",
    "# Create a set of random lat and lng combinations\n",
    "lats = np.random.uniform(lat_range[0], lat_range[1], size=1500)\n",
    "lngs = np.random.uniform(lng_range[0], lng_range[1], size=1500)\n",
    "lat_lngs = zip(lats, lngs)\n",
    "\n",
    "# Identify nearest city for each lat, lng combination\n",
    "for lat_lng in lat_lngs:\n",
    "    city = citipy.nearest_city(lat_lng[0], lat_lng[1]).city_name\n",
    "    \n",
    "    # If the city is unique, then add it to a our cities list\n",
    "    if city not in cities:\n",
    "        cities.append(city)\n",
    "\n",
    "# Print the city count to confirm sufficient count\n",
    "len(cities)\n",
    "\n",
    "\n"
   ]
  },
  {
   "cell_type": "code",
   "execution_count": 3,
   "metadata": {},
   "outputs": [
    {
     "name": "stdout",
     "output_type": "stream",
     "text": [
      "{\n",
      "    \"base\": \"stations\",\n",
      "    \"clouds\": {\n",
      "        \"all\": 90\n",
      "    },\n",
      "    \"cod\": 200,\n",
      "    \"coord\": {\n",
      "        \"lat\": 51.5085,\n",
      "        \"lon\": -0.1257\n",
      "    },\n",
      "    \"dt\": 1613044715,\n",
      "    \"id\": 2643743,\n",
      "    \"main\": {\n",
      "        \"feels_like\": 265.23,\n",
      "        \"humidity\": 69,\n",
      "        \"pressure\": 1029,\n",
      "        \"temp\": 272.9,\n",
      "        \"temp_max\": 273.71,\n",
      "        \"temp_min\": 272.04\n",
      "    },\n",
      "    \"name\": \"London\",\n",
      "    \"sys\": {\n",
      "        \"country\": \"GB\",\n",
      "        \"id\": 1414,\n",
      "        \"sunrise\": 1613028113,\n",
      "        \"sunset\": 1613063266,\n",
      "        \"type\": 1\n",
      "    },\n",
      "    \"timezone\": 0,\n",
      "    \"visibility\": 10000,\n",
      "    \"weather\": [\n",
      "        {\n",
      "            \"description\": \"overcast clouds\",\n",
      "            \"icon\": \"04d\",\n",
      "            \"id\": 804,\n",
      "            \"main\": \"Clouds\"\n",
      "        }\n",
      "    ],\n",
      "    \"wind\": {\n",
      "        \"deg\": 120,\n",
      "        \"speed\": 7.2\n",
      "    }\n",
      "}\n"
     ]
    }
   ],
   "source": [
    "response_test = requests.get(f\"http://api.openweathermap.org/data/2.5/weather?appid={weather_api_key}&units=imperial&q=London\").json()\n",
    "print(json.dumps(response_test, indent = 4, sort_keys = True))"
   ]
  },
  {
   "cell_type": "markdown",
   "metadata": {},
   "source": [
    "### Perform API Calls\n",
    "* Perform a weather check on each city using a series of successive API calls.\n",
    "* Include a print log of each city as it'sbeing processed (with the city number and city name).\n"
   ]
  },
  {
   "cell_type": "code",
   "execution_count": 6,
   "metadata": {
    "scrolled": true
   },
   "outputs": [
    {
     "name": "stdout",
     "output_type": "stream",
     "text": [
      "Beginning Data Retrieval\n",
      "------------------------------\n",
      "Processing city #1: punta arenas\n",
      "Processing city #2: illoqqortoormiut\n",
      "City not found. Processing next city.\n",
      "Processing city #3: carnarvon\n",
      "Processing city #4: dikson\n",
      "Processing city #5: georgetown\n",
      "Processing city #6: taolanaro\n",
      "City not found. Processing next city.\n",
      "Processing city #7: hobart\n",
      "Processing city #8: mizpe ramon\n",
      "City not found. Processing next city.\n",
      "Processing city #9: albany\n",
      "Processing city #10: simao\n",
      "Processing city #11: victoria\n",
      "Processing city #12: souillac\n",
      "Processing city #13: saint-philippe\n",
      "Processing city #14: mataura\n",
      "Processing city #15: berdigestyakh\n",
      "Processing city #16: sentyabrskiy\n",
      "City not found. Processing next city.\n",
      "Processing city #17: san patricio\n",
      "Processing city #18: gogrial\n",
      "Processing city #19: khatanga\n",
      "Processing city #20: new norfolk\n",
      "Processing city #21: mill valley\n",
      "Processing city #22: porto velho\n",
      "Processing city #23: hudson bay\n",
      "Processing city #24: ushuaia\n",
      "Processing city #25: vestmannaeyjar\n",
      "Processing city #26: solnechnyy\n",
      "Processing city #27: kedrovyy\n",
      "Processing city #28: saint-georges\n",
      "Processing city #29: isla vista\n",
      "Processing city #30: atuona\n",
      "Processing city #31: tiksi\n",
      "Processing city #32: hermanus\n",
      "Processing city #33: arona\n",
      "Processing city #34: rikitea\n",
      "Processing city #35: warqla\n",
      "City not found. Processing next city.\n",
      "Processing city #36: maple creek\n",
      "Processing city #37: mogadishu\n",
      "Processing city #38: rafsanjan\n",
      "Processing city #39: parchim\n",
      "Processing city #40: arraial do cabo\n",
      "Processing city #41: kaitangata\n",
      "Processing city #42: ostrovnoy\n",
      "Processing city #43: rio gallegos\n",
      "Processing city #44: mafinga\n",
      "Processing city #45: kamenskoye\n",
      "City not found. Processing next city.\n",
      "Processing city #46: lorengau\n",
      "Processing city #47: jamestown\n",
      "Processing city #48: laiagam\n",
      "City not found. Processing next city.\n",
      "Processing city #49: taitung\n",
      "Processing city #50: nizhneyansk\n",
      "City not found. Processing next city.\n",
      "Processing city #51: banyuwangi\n",
      "Processing city #52: port alfred\n",
      "Processing city #53: bredasdorp\n",
      "Processing city #54: illapel\n",
      "Processing city #55: dingle\n",
      "Processing city #56: barrow\n",
      "Processing city #57: geraldton\n",
      "Processing city #58: qabaqcol\n",
      "Processing city #59: yabelo\n",
      "Processing city #60: poum\n",
      "Processing city #61: samusu\n",
      "City not found. Processing next city.\n",
      "Processing city #62: matagami\n",
      "Processing city #63: darien\n",
      "Processing city #64: sechura\n",
      "Processing city #65: kapaa\n",
      "Processing city #66: praia da vitoria\n",
      "Processing city #67: bethel\n",
      "Processing city #68: barentsburg\n",
      "City not found. Processing next city.\n",
      "Processing city #69: karpogory\n",
      "Processing city #70: danjiangkou\n",
      "Processing city #71: kurtamysh\n",
      "Processing city #72: ust-maya\n",
      "Processing city #73: haliyal\n",
      "Processing city #74: port elizabeth\n",
      "Processing city #75: tineo\n",
      "Processing city #76: yellowknife\n",
      "Processing city #77: attawapiskat\n",
      "City not found. Processing next city.\n",
      "Processing city #78: tuktoyaktuk\n",
      "Processing city #79: labuhan\n",
      "Processing city #80: hilo\n",
      "Processing city #81: nagato\n",
      "Processing city #82: yulara\n",
      "Processing city #83: pangnirtung\n",
      "Processing city #84: east london\n",
      "Processing city #85: busselton\n",
      "Processing city #86: pisco\n",
      "Processing city #87: fort nelson\n",
      "Processing city #88: astana\n",
      "Processing city #89: kalmunai\n",
      "Processing city #90: thompson\n",
      "Processing city #91: bluff\n",
      "Processing city #92: bocaranga\n",
      "City not found. Processing next city.\n",
      "Processing city #93: laguna\n",
      "Processing city #94: san carlos de bariloche\n",
      "Processing city #95: cayenne\n",
      "Processing city #96: san antonio\n",
      "Processing city #97: kodiak\n",
      "Processing city #98: lensk\n",
      "Processing city #99: chokurdakh\n",
      "Processing city #100: ribeira grande\n",
      "Processing city #101: padang\n",
      "Processing city #102: auki\n",
      "Processing city #103: esil\n",
      "Processing city #104: tabas\n",
      "Processing city #105: clyde river\n",
      "Processing city #106: luderitz\n",
      "Processing city #107: faanui\n",
      "Processing city #108: ongandjera\n",
      "Processing city #109: matara\n",
      "Processing city #110: vaini\n",
      "Processing city #111: richards bay\n",
      "Processing city #112: qaanaaq\n",
      "Processing city #113: hamadan\n",
      "Processing city #114: lincoln\n",
      "Processing city #115: las palmas\n",
      "Processing city #116: fomboni\n",
      "Processing city #117: sorata\n",
      "Processing city #118: karachi\n",
      "Processing city #119: torbay\n",
      "Processing city #120: ust-koksa\n",
      "Processing city #121: ntchisi\n",
      "Processing city #122: salinopolis\n",
      "Processing city #123: linxia\n",
      "Processing city #124: nanakuli\n",
      "Processing city #125: ulaangom\n",
      "Processing city #126: pangai\n",
      "Processing city #127: whitehorse\n",
      "Processing city #128: caxias\n",
      "Processing city #129: dzilam gonzalez\n",
      "Processing city #130: lixourion\n",
      "Processing city #131: fairbanks\n",
      "Processing city #132: marcona\n",
      "City not found. Processing next city.\n",
      "Processing city #133: touros\n",
      "Processing city #134: narsaq\n",
      "Processing city #135: salalah\n",
      "Processing city #136: ponta do sol\n",
      "Processing city #137: mar del plata\n",
      "Processing city #138: sukheke\n",
      "City not found. Processing next city.\n",
      "Processing city #139: haines junction\n",
      "Processing city #140: norden\n",
      "Processing city #141: lagunas\n",
      "Processing city #142: los llanos de aridane\n",
      "Processing city #143: morehead\n",
      "Processing city #144: pacific grove\n",
      "Processing city #145: muros\n",
      "Processing city #146: anchorage\n",
      "Processing city #147: mnogovershinnyy\n",
      "Processing city #148: avarua\n",
      "Processing city #149: ust-kuyga\n",
      "Processing city #150: constitucion\n",
      "Processing city #151: republic\n",
      "Processing city #152: chacabuco\n",
      "Processing city #153: rocha\n",
      "Processing city #154: bengkulu\n",
      "Processing city #155: lompoc\n",
      "Processing city #156: norman wells\n",
      "Processing city #157: puerto escondido\n",
      "Processing city #158: kutum\n",
      "Processing city #159: adet\n",
      "Processing city #160: lastoursville\n",
      "Processing city #161: belushya guba\n",
      "City not found. Processing next city.\n",
      "Processing city #162: lebu\n",
      "Processing city #163: lumeje\n",
      "Processing city #164: zhezkazgan\n",
      "Processing city #165: mount isa\n",
      "Processing city #166: aklavik\n",
      "Processing city #167: djibo\n",
      "Processing city #168: soe\n",
      "Processing city #169: bend\n",
      "Processing city #170: moron\n",
      "Processing city #171: rawson\n",
      "Processing city #172: lagoa\n",
      "Processing city #173: dubrovnik\n",
      "Processing city #174: kovdor\n",
      "Processing city #175: buariki\n",
      "City not found. Processing next city.\n",
      "Processing city #176: cabedelo\n",
      "Processing city #177: kruisfontein\n",
      "Processing city #178: yaring\n",
      "Processing city #179: gardan diwal\n",
      "City not found. Processing next city.\n",
      "Processing city #180: iqaluit\n",
      "Processing city #181: vostok\n",
      "Processing city #182: kijang\n",
      "Processing city #183: nelson bay\n",
      "Processing city #184: turukhansk\n",
      "Processing city #185: la paz\n",
      "Processing city #186: aquiraz\n",
      "Processing city #187: cape town\n",
      "Processing city #188: ploemeur\n",
      "Processing city #189: pevek\n",
      "Processing city #190: provideniya\n",
      "Processing city #191: komsomolskiy\n",
      "Processing city #192: antsirabe\n",
      "Processing city #193: castro\n",
      "Processing city #194: mys shmidta\n",
      "City not found. Processing next city.\n",
      "Processing city #195: srednekolymsk\n",
      "Processing city #196: berdyuzhye\n",
      "City not found. Processing next city.\n",
      "Processing city #197: banikoara\n",
      "Processing city #198: hun\n",
      "Processing city #199: hithadhoo\n",
      "Processing city #200: sorland\n",
      "Processing city #201: avera\n",
      "Processing city #202: suez\n",
      "Processing city #203: poddorye\n",
      "Processing city #204: airai\n",
      "Processing city #205: ahipara\n",
      "Processing city #206: brodokalmak\n",
      "Processing city #207: vao\n",
      "Processing city #208: bud\n",
      "Processing city #209: lasa\n",
      "Processing city #210: bambous virieux\n",
      "Processing city #211: rio grande\n",
      "Processing city #212: nanortalik\n",
      "Processing city #213: osakarovka\n",
      "Processing city #214: adrar\n",
      "Processing city #215: jumla\n",
      "Processing city #216: chapais\n",
      "Processing city #217: ous\n",
      "Processing city #218: beringovskiy\n",
      "Processing city #219: saleaula\n",
      "City not found. Processing next city.\n",
      "Processing city #220: skorodnoye\n",
      "Processing city #221: talnakh\n",
      "Processing city #222: nusaybin\n",
      "Processing city #223: fevralsk\n",
      "City not found. Processing next city.\n",
      "Processing city #224: saint anthony\n",
      "Processing city #225: seoul\n",
      "Processing city #226: grand river south east\n",
      "City not found. Processing next city.\n",
      "Processing city #227: inderborskiy\n",
      "City not found. Processing next city.\n",
      "Processing city #228: flambouron\n",
      "City not found. Processing next city.\n",
      "Processing city #229: da nang\n",
      "Processing city #230: caconda\n",
      "Processing city #231: kez\n",
      "Processing city #232: kavieng\n",
      "Processing city #233: sioux lookout\n"
     ]
    },
    {
     "name": "stdout",
     "output_type": "stream",
     "text": [
      "Processing city #234: mulchen\n",
      "Processing city #235: beloha\n",
      "Processing city #236: flin flon\n",
      "Processing city #237: bien hoa\n",
      "Processing city #238: narasannapeta\n",
      "Processing city #239: oktyabrskoye\n",
      "Processing city #240: mumford\n",
      "Processing city #241: sandur\n",
      "Processing city #242: puerto ayora\n",
      "Processing city #243: nikolskoye\n",
      "Processing city #244: sedelnikovo\n",
      "City not found. Processing next city.\n",
      "Processing city #245: northam\n",
      "Processing city #246: upernavik\n",
      "Processing city #247: havelock\n",
      "Processing city #248: srandakan\n",
      "Processing city #249: mabaruma\n",
      "Processing city #250: codrington\n",
      "Processing city #251: camacha\n",
      "Processing city #252: cidreira\n",
      "Processing city #253: gulshat\n",
      "City not found. Processing next city.\n",
      "Processing city #254: yeniseysk\n",
      "Processing city #255: buenos aires\n",
      "Processing city #256: pitkyaranta\n",
      "Processing city #257: nioro\n",
      "Processing city #258: nepalganj\n",
      "City not found. Processing next city.\n",
      "Processing city #259: rabo de peixe\n",
      "Processing city #260: the valley\n",
      "Processing city #261: paraiso\n",
      "Processing city #262: tiznit\n",
      "Processing city #263: honningsvag\n",
      "Processing city #264: itoman\n",
      "Processing city #265: acapulco\n",
      "Processing city #266: coalinga\n",
      "Processing city #267: fort frances\n",
      "Processing city #268: nanae\n",
      "Processing city #269: neyvo-shaytanskiy\n",
      "Processing city #270: tasiilaq\n",
      "Processing city #271: butaritari\n",
      "Processing city #272: namatanai\n",
      "Processing city #273: turayf\n",
      "Processing city #274: chimore\n",
      "Processing city #275: florence\n",
      "Processing city #276: bilma\n",
      "Processing city #277: amderma\n",
      "City not found. Processing next city.\n",
      "Processing city #278: toliary\n",
      "City not found. Processing next city.\n",
      "Processing city #279: longyearbyen\n",
      "Processing city #280: warwick\n",
      "Processing city #281: mandera\n",
      "Processing city #282: guerrero negro\n",
      "Processing city #283: karamay\n",
      "City not found. Processing next city.\n",
      "Processing city #284: ancud\n",
      "Processing city #285: hamina\n",
      "Processing city #286: macaboboni\n",
      "City not found. Processing next city.\n",
      "Processing city #287: george\n",
      "Processing city #288: moundou\n",
      "Processing city #289: nome\n",
      "Processing city #290: grindavik\n",
      "Processing city #291: mutsamudu\n",
      "City not found. Processing next city.\n",
      "Processing city #292: chernyshevskiy\n",
      "Processing city #293: sitka\n",
      "Processing city #294: alausi\n",
      "Processing city #295: merauke\n",
      "Processing city #296: hasaki\n",
      "Processing city #297: jujuy\n",
      "City not found. Processing next city.\n",
      "Processing city #298: anta\n",
      "Processing city #299: oranjemund\n",
      "Processing city #300: kahului\n",
      "Processing city #301: borogontsy\n",
      "Processing city #302: coihaique\n",
      "Processing city #303: bandarbeyla\n",
      "Processing city #304: esperance\n",
      "Processing city #305: manama\n",
      "Processing city #306: dunedin\n",
      "Processing city #307: vila velha\n",
      "Processing city #308: rock sound\n",
      "Processing city #309: snina\n",
      "Processing city #310: dalbandin\n",
      "Processing city #311: mehamn\n",
      "Processing city #312: belmonte\n",
      "Processing city #313: krasnoselkup\n",
      "Processing city #314: cherskiy\n",
      "Processing city #315: thinadhoo\n",
      "Processing city #316: kudahuvadhoo\n",
      "Processing city #317: feijo\n",
      "Processing city #318: tumannyy\n",
      "City not found. Processing next city.\n",
      "Processing city #319: katsuura\n",
      "Processing city #320: leshukonskoye\n",
      "Processing city #321: staryy nadym\n",
      "Processing city #322: maniitsoq\n",
      "Processing city #323: rio verde de mato grosso\n",
      "Processing city #324: valera\n",
      "Processing city #325: bogotol\n",
      "Processing city #326: ilulissat\n",
      "Processing city #327: nantucket\n",
      "Processing city #328: shingu\n",
      "Processing city #329: alofi\n",
      "Processing city #330: kon tum\n",
      "Processing city #331: liberia\n",
      "Processing city #332: diamantino\n",
      "Processing city #333: tougan\n",
      "Processing city #334: prainha\n",
      "Processing city #335: tsihombe\n",
      "City not found. Processing next city.\n",
      "Processing city #336: coquimbo\n",
      "Processing city #337: beidao\n",
      "Processing city #338: carutapera\n",
      "Processing city #339: karratha\n",
      "Processing city #340: nouadhibou\n",
      "Processing city #341: sorvag\n",
      "City not found. Processing next city.\n",
      "Processing city #342: laredo\n",
      "Processing city #343: vallenar\n",
      "Processing city #344: saskylakh\n",
      "Processing city #345: palmer\n",
      "Processing city #346: vaitupu\n",
      "City not found. Processing next city.\n",
      "Processing city #347: riyadh\n",
      "Processing city #348: rungata\n",
      "City not found. Processing next city.\n",
      "Processing city #349: asyut\n",
      "Processing city #350: corcoran\n",
      "Processing city #351: butia\n",
      "Processing city #352: bathsheba\n",
      "Processing city #353: erenhot\n",
      "Processing city #354: biak\n",
      "Processing city #355: japura\n",
      "Processing city #356: opuwo\n",
      "Processing city #357: mchinji\n",
      "Processing city #358: palabuhanratu\n",
      "City not found. Processing next city.\n",
      "Processing city #359: tawnat\n",
      "City not found. Processing next city.\n",
      "Processing city #360: dong hoi\n",
      "Processing city #361: makakilo city\n",
      "Processing city #362: muroto\n",
      "Processing city #363: moree\n",
      "Processing city #364: grand gaube\n",
      "Processing city #365: saint-francois\n",
      "Processing city #366: bilibino\n",
      "Processing city #367: mmathubudukwane\n",
      "Processing city #368: peleduy\n",
      "Processing city #369: ilhabela\n",
      "Processing city #370: kloulklubed\n",
      "Processing city #371: bure\n",
      "Processing city #372: rognan\n",
      "Processing city #373: san cristobal\n",
      "Processing city #374: half moon bay\n",
      "Processing city #375: nago\n",
      "Processing city #376: tshikapa\n",
      "Processing city #377: kysyl-syr\n",
      "Processing city #378: sao filipe\n",
      "Processing city #379: cabo san lucas\n",
      "Processing city #380: salvador\n",
      "Processing city #381: rorvik\n",
      "Processing city #382: chillicothe\n",
      "Processing city #383: fenoarivo\n",
      "Processing city #384: college\n",
      "Processing city #385: tondano\n",
      "Processing city #386: port hedland\n",
      "Processing city #387: san juan\n",
      "Processing city #388: cap malheureux\n",
      "Processing city #389: mayo\n",
      "Processing city #390: prachuap khiri khan\n",
      "Processing city #391: marsh harbour\n",
      "Processing city #392: barstow\n",
      "Processing city #393: guadalupe y calvo\n",
      "Processing city #394: vrangel\n",
      "Processing city #395: farsund\n",
      "Processing city #396: la mana\n",
      "Processing city #397: sassandra\n",
      "Processing city #398: mahebourg\n",
      "Processing city #399: skagastrond\n",
      "City not found. Processing next city.\n",
      "Processing city #400: leh\n",
      "Processing city #401: beyneu\n",
      "Processing city #402: victoria point\n",
      "Processing city #403: andenes\n",
      "Processing city #404: chuy\n",
      "Processing city #405: hambantota\n",
      "Processing city #406: mantua\n",
      "Processing city #407: naze\n",
      "Processing city #408: cockburn town\n",
      "Processing city #409: bulungu\n",
      "Processing city #410: athens\n",
      "Processing city #411: arlit\n",
      "Processing city #412: afmadu\n",
      "City not found. Processing next city.\n",
      "Processing city #413: walvis bay\n",
      "Processing city #414: marion\n",
      "Processing city #415: sibolga\n",
      "Processing city #416: jiuquan\n",
      "Processing city #417: vesyegonsk\n",
      "Processing city #418: myitkyina\n",
      "Processing city #419: fortuna\n",
      "Processing city #420: karaul\n",
      "City not found. Processing next city.\n",
      "Processing city #421: inhambane\n",
      "Processing city #422: vardo\n",
      "Processing city #423: shasta lake\n",
      "Processing city #424: port-cartier\n",
      "Processing city #425: vila do maio\n",
      "Processing city #426: soria\n",
      "Processing city #427: batemans bay\n",
      "Processing city #428: bairiki\n",
      "Processing city #429: ixtapa\n",
      "Processing city #430: inverell\n",
      "Processing city #431: tuatapere\n",
      "Processing city #432: todos santos\n",
      "Processing city #433: policoro\n",
      "Processing city #434: tabiauea\n",
      "City not found. Processing next city.\n",
      "Processing city #435: cozumel\n",
      "Processing city #436: goderich\n",
      "Processing city #437: neka\n",
      "Processing city #438: nizwa\n",
      "Processing city #439: bolungarvik\n",
      "City not found. Processing next city.\n",
      "Processing city #440: kurchum\n",
      "Processing city #441: hay river\n",
      "Processing city #442: meyungs\n",
      "City not found. Processing next city.\n",
      "Processing city #443: egvekinot\n",
      "Processing city #444: kuandian\n",
      "Processing city #445: klaksvik\n",
      "Processing city #446: varkkallai\n",
      "Processing city #447: sakakah\n",
      "Processing city #448: flinders\n",
      "Processing city #449: ochamchira\n",
      "Processing city #450: slave lake\n",
      "Processing city #451: ketchikan\n",
      "Processing city #452: praya\n",
      "Processing city #453: lexington park\n",
      "Processing city #454: am timan\n",
      "Processing city #455: te anau\n",
      "Processing city #456: tchibanga\n",
      "Processing city #457: portland\n",
      "Processing city #458: vila\n",
      "Processing city #459: cacu\n",
      "Processing city #460: olafsvik\n",
      "Processing city #461: paso de carrasco\n",
      "Processing city #462: do rud\n",
      "City not found. Processing next city.\n",
      "Processing city #463: senneterre\n",
      "Processing city #464: santa maria del oro\n",
      "Processing city #465: pimentel\n",
      "Processing city #466: akyab\n",
      "Processing city #467: bonthe\n"
     ]
    },
    {
     "name": "stdout",
     "output_type": "stream",
     "text": [
      "Processing city #468: punta alta\n",
      "Processing city #469: vestmanna\n",
      "Processing city #470: varhaug\n",
      "Processing city #471: pandan\n",
      "Processing city #472: ngunguru\n",
      "Processing city #473: panguna\n",
      "Processing city #474: valley station\n",
      "Processing city #475: tazovskiy\n",
      "Processing city #476: skelleftea\n",
      "Processing city #477: gat\n",
      "Processing city #478: balykshi\n",
      "Processing city #479: turbat\n",
      "Processing city #480: yar-sale\n",
      "Processing city #481: mansoa\n",
      "Processing city #482: nipawin\n",
      "Processing city #483: cape coast\n",
      "Processing city #484: port macquarie\n",
      "Processing city #485: alamosa\n",
      "Processing city #486: sri aman\n",
      "Processing city #487: wembley\n",
      "Processing city #488: dabola\n",
      "Processing city #489: kodinsk\n",
      "Processing city #490: sanguem\n",
      "Processing city #491: olga\n",
      "Processing city #492: tura\n",
      "Processing city #493: saint george\n",
      "Processing city #494: husavik\n",
      "Processing city #495: bundaberg\n",
      "Processing city #496: san quintin\n",
      "Processing city #497: buala\n",
      "Processing city #498: paramonga\n",
      "Processing city #499: livingston\n",
      "Processing city #500: canto do buriti\n",
      "Processing city #501: pochutla\n",
      "Processing city #502: hokitika\n",
      "Processing city #503: mount gambier\n",
      "Processing city #504: san carlos\n",
      "Processing city #505: felidhoo\n",
      "City not found. Processing next city.\n",
      "Processing city #506: rabaul\n",
      "Processing city #507: baindur\n",
      "Processing city #508: mega\n",
      "Processing city #509: gigmoto\n",
      "Processing city #510: calderitas\n",
      "Processing city #511: halalo\n",
      "City not found. Processing next city.\n",
      "Processing city #512: trairi\n",
      "Processing city #513: san ramon\n",
      "Processing city #514: ulaanbaatar\n",
      "Processing city #515: paamiut\n",
      "Processing city #516: ponta delgada\n",
      "Processing city #517: mersing\n",
      "Processing city #518: arman\n",
      "Processing city #519: mercedes\n",
      "Processing city #520: kununurra\n",
      "Processing city #521: la ronge\n",
      "Processing city #522: porto santo\n",
      "Processing city #523: masvingo\n",
      "Processing city #524: winona\n",
      "Processing city #525: zomin\n",
      "Processing city #526: tarakan\n",
      "Processing city #527: mahenge\n",
      "Processing city #528: ratnagiri\n",
      "Processing city #529: jieshou\n",
      "Processing city #530: emba\n",
      "Processing city #531: kosa\n",
      "Processing city #532: tungkang\n",
      "City not found. Processing next city.\n",
      "Processing city #533: hereford\n",
      "Processing city #534: tomatlan\n",
      "Processing city #535: jardim\n",
      "Processing city #536: itaituba\n",
      "Processing city #537: basco\n",
      "Processing city #538: trapani\n",
      "Processing city #539: mudkhed\n",
      "Processing city #540: alyangula\n",
      "Processing city #541: panjab\n",
      "Processing city #542: ambunti\n",
      "Processing city #543: santa fe\n",
      "Processing city #544: pierre\n",
      "Processing city #545: iberia\n",
      "Processing city #546: leningradskiy\n",
      "Processing city #547: tauberbischofsheim\n",
      "Processing city #548: presidencia roque saenz pena\n",
      "Processing city #549: khazar\n",
      "Processing city #550: shimoda\n",
      "Processing city #551: port hardy\n",
      "Processing city #552: marawi\n",
      "Processing city #553: mindupok\n",
      "Processing city #554: kiruna\n",
      "Processing city #555: smithers\n",
      "Processing city #556: hualmay\n",
      "Processing city #557: quatre cocos\n",
      "Processing city #558: xichang\n",
      "Processing city #559: barahona\n",
      "Processing city #560: severo-kurilsk\n",
      "Processing city #561: hamamatsu\n",
      "Processing city #562: cintalapa\n",
      "Processing city #563: jalu\n",
      "Processing city #564: mariental\n",
      "Processing city #565: grand centre\n",
      "City not found. Processing next city.\n",
      "Processing city #566: praia\n",
      "Processing city #567: artyk\n",
      "City not found. Processing next city.\n",
      "Processing city #568: vyazma\n",
      "Processing city #569: ipixuna\n",
      "Processing city #570: fukue\n",
      "Processing city #571: chimbote\n",
      "Processing city #572: halifax\n",
      "Processing city #573: buraydah\n",
      "Processing city #574: sumbe\n",
      "Processing city #575: namibe\n",
      "Processing city #576: shuya\n",
      "Processing city #577: abong mbang\n",
      "Processing city #578: sao joao da barra\n",
      "Processing city #579: yamada\n",
      "Processing city #580: galiwinku\n",
      "City not found. Processing next city.\n",
      "Processing city #581: saint-nicolas\n",
      "Processing city #582: tunduru\n",
      "City not found. Processing next city.\n",
      "Processing city #583: dzhusaly\n",
      "City not found. Processing next city.\n",
      "Processing city #584: strelka\n",
      "Processing city #585: aqtobe\n",
      "Processing city #586: kismayo\n",
      "Processing city #587: liaocheng\n",
      "Processing city #588: arrecife\n",
      "Processing city #589: kiama\n",
      "Processing city #590: abu zabad\n",
      "Processing city #591: carbonia\n",
      "Processing city #592: kobryn\n",
      "Processing city #593: lakes entrance\n",
      "Processing city #594: iquitos\n",
      "Processing city #595: aykhal\n",
      "Processing city #596: santa rosa\n",
      "Processing city #597: kadiri\n",
      "Processing city #598: batagay\n",
      "Processing city #599: taraz\n",
      "Processing city #600: helong\n",
      "Processing city #601: upata\n",
      "Processing city #602: innisfail\n",
      "Processing city #603: kyabe\n",
      "Processing city #604: anupgarh\n",
      "Processing city #605: russell\n",
      "Processing city #606: manggar\n",
      "Processing city #607: mapiripan\n",
      "Processing city #608: ardistan\n",
      "City not found. Processing next city.\n",
      "Processing city #609: mokhsogollokh\n",
      "Processing city #610: grand-lahou\n",
      "Processing city #611: porto novo\n",
      "Processing city #612: nishihara\n",
      "Processing city #613: mendi\n",
      "Processing city #614: gangotri\n",
      "City not found. Processing next city.\n",
      "Processing city #615: bur gabo\n",
      "City not found. Processing next city.\n",
      "Processing city #616: stolac\n",
      "Processing city #617: hamilton\n",
      "Processing city #618: roma\n",
      "Processing city #619: manono\n",
      "Processing city #620: biltine\n",
      "Processing city #621: garowe\n",
      "Processing city #622: ambanja\n"
     ]
    }
   ],
   "source": [
    "url = \"http://api.openweathermap.org/data/2.5/weather?\"\n",
    "print(\"Beginning Data Retrieval\")\n",
    "print(\"------------------------------\")\n",
    "counter = 1\n",
    "lats = []\n",
    "lngs = []\n",
    "max_temps = []\n",
    "humidity = []\n",
    "cloudiness = []\n",
    "windspeeds = []\n",
    "countries = []\n",
    "dates = []\n",
    "new_cities_list = []\n",
    "\n",
    "for city in cities:\n",
    "    query_url = url + \"appid=\" + weather_api_key + \"&units=imperial\" + \"&q=\" + city\n",
    "    response = requests.get(query_url).json()\n",
    "    try:\n",
    "        print(f\"Processing city #{counter}: {city}\")\n",
    "        counter = counter + 1\n",
    "        lats.append(response['coord']['lat'])\n",
    "        lngs.append(response['coord']['lon'])\n",
    "        max_temps.append(response['main']['temp_max'])\n",
    "        humidity.append(response['main']['humidity'])\n",
    "        cloudiness.append(response['clouds']['all'])\n",
    "        windspeeds.append(response['wind']['speed'])\n",
    "        countries.append(response['sys']['country'])\n",
    "        dates.append(response['dt'])\n",
    "        new_cities_list.append(city)\n",
    "        \n",
    "    except:\n",
    "        print('City not found. Processing next city.')\n",
    "        \n",
    "        \n",
    "        \n",
    "       \n",
    "#print(json.dumps(response, indent=4, sort_keys=True))"
   ]
  },
  {
   "cell_type": "markdown",
   "metadata": {},
   "source": [
    "### Convert Raw Data to DataFrame\n",
    "* Export the city data into a .csv.\n",
    "* Display the DataFrame"
   ]
  },
  {
   "cell_type": "code",
   "execution_count": 7,
   "metadata": {},
   "outputs": [
    {
     "name": "stdout",
     "output_type": "stream",
     "text": [
      "564\n",
      "564\n",
      "564\n",
      "564\n",
      "564\n",
      "564\n",
      "564\n",
      "564\n"
     ]
    }
   ],
   "source": [
    "print(len(new_cities_list))\n",
    "print(len(lats))\n",
    "print(len(lngs))\n",
    "print(len(max_temps))\n",
    "print(len(humidity))\n",
    "print(len(cloudiness))\n",
    "print(len(windspeeds))\n",
    "print(len(dates))\n",
    "#weather_dict = {\n",
    "  #  'City' : ci\n",
    "   # 'Lat' : lats\n",
    "   # ''\n",
    "# }"
   ]
  },
  {
   "cell_type": "code",
   "execution_count": 8,
   "metadata": {},
   "outputs": [],
   "source": [
    "weather_dict = {\n",
    "    'City' : new_cities_list,\n",
    "    'Lat' : lats,\n",
    "    'Lng' : lngs,\n",
    "    'Max Temp' : max_temps,\n",
    "    'Humidity' : humidity,\n",
    "    'Cloudiness' : cloudiness,\n",
    "    'Wind Speed' : windspeeds,\n",
    "    'Date' : dates\n",
    "}\n",
    "\n",
    "weather_df = pd.DataFrame(weather_dict)\n",
    "weather_df.to_csv('Output/weather_data.csv')"
   ]
  },
  {
   "cell_type": "code",
   "execution_count": 9,
   "metadata": {},
   "outputs": [],
   "source": [
    "\n",
    "    "
   ]
  },
  {
   "cell_type": "code",
   "execution_count": 16,
   "metadata": {},
   "outputs": [
    {
     "data": {
      "text/html": [
       "<div>\n",
       "<style scoped>\n",
       "    .dataframe tbody tr th:only-of-type {\n",
       "        vertical-align: middle;\n",
       "    }\n",
       "\n",
       "    .dataframe tbody tr th {\n",
       "        vertical-align: top;\n",
       "    }\n",
       "\n",
       "    .dataframe thead th {\n",
       "        text-align: right;\n",
       "    }\n",
       "</style>\n",
       "<table border=\"1\" class=\"dataframe\">\n",
       "  <thead>\n",
       "    <tr style=\"text-align: right;\">\n",
       "      <th></th>\n",
       "      <th>Lat</th>\n",
       "      <th>Lng</th>\n",
       "      <th>Max Temp</th>\n",
       "      <th>Humidity</th>\n",
       "      <th>Cloudiness</th>\n",
       "      <th>Wind Speed</th>\n",
       "      <th>Date</th>\n",
       "    </tr>\n",
       "  </thead>\n",
       "  <tbody>\n",
       "    <tr>\n",
       "      <td>count</td>\n",
       "      <td>599.000000</td>\n",
       "      <td>599.000000</td>\n",
       "      <td>599.000000</td>\n",
       "      <td>599.000000</td>\n",
       "      <td>599.000000</td>\n",
       "      <td>599.000000</td>\n",
       "      <td>5.990000e+02</td>\n",
       "    </tr>\n",
       "    <tr>\n",
       "      <td>mean</td>\n",
       "      <td>19.877028</td>\n",
       "      <td>19.568998</td>\n",
       "      <td>69.794808</td>\n",
       "      <td>69.353923</td>\n",
       "      <td>51.569282</td>\n",
       "      <td>7.979416</td>\n",
       "      <td>1.593605e+09</td>\n",
       "    </tr>\n",
       "    <tr>\n",
       "      <td>std</td>\n",
       "      <td>33.262944</td>\n",
       "      <td>91.418472</td>\n",
       "      <td>15.678452</td>\n",
       "      <td>22.704698</td>\n",
       "      <td>35.405602</td>\n",
       "      <td>5.660694</td>\n",
       "      <td>5.738815e+01</td>\n",
       "    </tr>\n",
       "    <tr>\n",
       "      <td>min</td>\n",
       "      <td>-54.800000</td>\n",
       "      <td>-179.170000</td>\n",
       "      <td>12.200000</td>\n",
       "      <td>7.000000</td>\n",
       "      <td>0.000000</td>\n",
       "      <td>0.360000</td>\n",
       "      <td>1.593605e+09</td>\n",
       "    </tr>\n",
       "    <tr>\n",
       "      <td>25%</td>\n",
       "      <td>-8.540000</td>\n",
       "      <td>-61.210000</td>\n",
       "      <td>59.000000</td>\n",
       "      <td>55.000000</td>\n",
       "      <td>20.000000</td>\n",
       "      <td>3.620000</td>\n",
       "      <td>1.593605e+09</td>\n",
       "    </tr>\n",
       "    <tr>\n",
       "      <td>50%</td>\n",
       "      <td>24.370000</td>\n",
       "      <td>24.670000</td>\n",
       "      <td>73.110000</td>\n",
       "      <td>75.000000</td>\n",
       "      <td>59.000000</td>\n",
       "      <td>6.730000</td>\n",
       "      <td>1.593605e+09</td>\n",
       "    </tr>\n",
       "    <tr>\n",
       "      <td>75%</td>\n",
       "      <td>46.585000</td>\n",
       "      <td>102.255000</td>\n",
       "      <td>80.600000</td>\n",
       "      <td>87.000000</td>\n",
       "      <td>85.000000</td>\n",
       "      <td>11.050000</td>\n",
       "      <td>1.593605e+09</td>\n",
       "    </tr>\n",
       "    <tr>\n",
       "      <td>max</td>\n",
       "      <td>78.220000</td>\n",
       "      <td>179.320000</td>\n",
       "      <td>116.600000</td>\n",
       "      <td>100.000000</td>\n",
       "      <td>100.000000</td>\n",
       "      <td>42.500000</td>\n",
       "      <td>1.593605e+09</td>\n",
       "    </tr>\n",
       "  </tbody>\n",
       "</table>\n",
       "</div>"
      ],
      "text/plain": [
       "              Lat         Lng    Max Temp    Humidity  Cloudiness  Wind Speed  \\\n",
       "count  599.000000  599.000000  599.000000  599.000000  599.000000  599.000000   \n",
       "mean    19.877028   19.568998   69.794808   69.353923   51.569282    7.979416   \n",
       "std     33.262944   91.418472   15.678452   22.704698   35.405602    5.660694   \n",
       "min    -54.800000 -179.170000   12.200000    7.000000    0.000000    0.360000   \n",
       "25%     -8.540000  -61.210000   59.000000   55.000000   20.000000    3.620000   \n",
       "50%     24.370000   24.670000   73.110000   75.000000   59.000000    6.730000   \n",
       "75%     46.585000  102.255000   80.600000   87.000000   85.000000   11.050000   \n",
       "max     78.220000  179.320000  116.600000  100.000000  100.000000   42.500000   \n",
       "\n",
       "               Date  \n",
       "count  5.990000e+02  \n",
       "mean   1.593605e+09  \n",
       "std    5.738815e+01  \n",
       "min    1.593605e+09  \n",
       "25%    1.593605e+09  \n",
       "50%    1.593605e+09  \n",
       "75%    1.593605e+09  \n",
       "max    1.593605e+09  "
      ]
     },
     "execution_count": 16,
     "metadata": {},
     "output_type": "execute_result"
    }
   ],
   "source": []
  },
  {
   "cell_type": "markdown",
   "metadata": {},
   "source": [
    "## Inspect the data and remove the cities where the humidity > 100%.\n",
    "----\n",
    "Skip this step if there are no cities that have humidity > 100%. "
   ]
  },
  {
   "cell_type": "code",
   "execution_count": 10,
   "metadata": {},
   "outputs": [
    {
     "data": {
      "text/html": [
       "<div>\n",
       "<style scoped>\n",
       "    .dataframe tbody tr th:only-of-type {\n",
       "        vertical-align: middle;\n",
       "    }\n",
       "\n",
       "    .dataframe tbody tr th {\n",
       "        vertical-align: top;\n",
       "    }\n",
       "\n",
       "    .dataframe thead th {\n",
       "        text-align: right;\n",
       "    }\n",
       "</style>\n",
       "<table border=\"1\" class=\"dataframe\">\n",
       "  <thead>\n",
       "    <tr style=\"text-align: right;\">\n",
       "      <th></th>\n",
       "      <th>City</th>\n",
       "      <th>Lat</th>\n",
       "      <th>Lng</th>\n",
       "      <th>Max Temp</th>\n",
       "      <th>Humidity</th>\n",
       "      <th>Cloudiness</th>\n",
       "      <th>Wind Speed</th>\n",
       "      <th>Date</th>\n",
       "    </tr>\n",
       "  </thead>\n",
       "  <tbody>\n",
       "    <tr>\n",
       "      <th>115</th>\n",
       "      <td>caxias</td>\n",
       "      <td>38.7031</td>\n",
       "      <td>-9.2767</td>\n",
       "      <td>61.00</td>\n",
       "      <td>100</td>\n",
       "      <td>75</td>\n",
       "      <td>12.66</td>\n",
       "      <td>1613048779</td>\n",
       "    </tr>\n",
       "    <tr>\n",
       "      <th>184</th>\n",
       "      <td>airai</td>\n",
       "      <td>-8.9266</td>\n",
       "      <td>125.4092</td>\n",
       "      <td>63.41</td>\n",
       "      <td>100</td>\n",
       "      <td>100</td>\n",
       "      <td>0.09</td>\n",
       "      <td>1613048793</td>\n",
       "    </tr>\n",
       "    <tr>\n",
       "      <th>97</th>\n",
       "      <td>vaini</td>\n",
       "      <td>-21.2000</td>\n",
       "      <td>-175.2000</td>\n",
       "      <td>77.00</td>\n",
       "      <td>100</td>\n",
       "      <td>20</td>\n",
       "      <td>3.44</td>\n",
       "      <td>1613048776</td>\n",
       "    </tr>\n",
       "    <tr>\n",
       "      <th>390</th>\n",
       "      <td>cozumel</td>\n",
       "      <td>20.5083</td>\n",
       "      <td>-86.9458</td>\n",
       "      <td>75.99</td>\n",
       "      <td>100</td>\n",
       "      <td>40</td>\n",
       "      <td>3.44</td>\n",
       "      <td>1613048834</td>\n",
       "    </tr>\n",
       "    <tr>\n",
       "      <th>223</th>\n",
       "      <td>mabaruma</td>\n",
       "      <td>8.2000</td>\n",
       "      <td>-59.7833</td>\n",
       "      <td>73.40</td>\n",
       "      <td>100</td>\n",
       "      <td>40</td>\n",
       "      <td>4.45</td>\n",
       "      <td>1613048590</td>\n",
       "    </tr>\n",
       "    <tr>\n",
       "      <th>...</th>\n",
       "      <td>...</td>\n",
       "      <td>...</td>\n",
       "      <td>...</td>\n",
       "      <td>...</td>\n",
       "      <td>...</td>\n",
       "      <td>...</td>\n",
       "      <td>...</td>\n",
       "      <td>...</td>\n",
       "    </tr>\n",
       "    <tr>\n",
       "      <th>230</th>\n",
       "      <td>nioro</td>\n",
       "      <td>13.3500</td>\n",
       "      <td>-15.7500</td>\n",
       "      <td>102.51</td>\n",
       "      <td>8</td>\n",
       "      <td>100</td>\n",
       "      <td>10.42</td>\n",
       "      <td>1613048802</td>\n",
       "    </tr>\n",
       "    <tr>\n",
       "      <th>177</th>\n",
       "      <td>banikoara</td>\n",
       "      <td>11.2985</td>\n",
       "      <td>2.4386</td>\n",
       "      <td>99.37</td>\n",
       "      <td>8</td>\n",
       "      <td>0</td>\n",
       "      <td>7.61</td>\n",
       "      <td>1613048792</td>\n",
       "    </tr>\n",
       "    <tr>\n",
       "      <th>298</th>\n",
       "      <td>tougan</td>\n",
       "      <td>13.0667</td>\n",
       "      <td>-3.0667</td>\n",
       "      <td>100.98</td>\n",
       "      <td>7</td>\n",
       "      <td>0</td>\n",
       "      <td>13.49</td>\n",
       "      <td>1613048816</td>\n",
       "    </tr>\n",
       "    <tr>\n",
       "      <th>151</th>\n",
       "      <td>djibo</td>\n",
       "      <td>14.1022</td>\n",
       "      <td>-1.6306</td>\n",
       "      <td>98.74</td>\n",
       "      <td>7</td>\n",
       "      <td>0</td>\n",
       "      <td>13.15</td>\n",
       "      <td>1613048786</td>\n",
       "    </tr>\n",
       "    <tr>\n",
       "      <th>547</th>\n",
       "      <td>kyabe</td>\n",
       "      <td>9.4515</td>\n",
       "      <td>18.9449</td>\n",
       "      <td>107.94</td>\n",
       "      <td>6</td>\n",
       "      <td>45</td>\n",
       "      <td>1.83</td>\n",
       "      <td>1613048865</td>\n",
       "    </tr>\n",
       "  </tbody>\n",
       "</table>\n",
       "<p>564 rows × 8 columns</p>\n",
       "</div>"
      ],
      "text/plain": [
       "          City      Lat       Lng  Max Temp  Humidity  Cloudiness  Wind Speed  \\\n",
       "115     caxias  38.7031   -9.2767     61.00       100          75       12.66   \n",
       "184      airai  -8.9266  125.4092     63.41       100         100        0.09   \n",
       "97       vaini -21.2000 -175.2000     77.00       100          20        3.44   \n",
       "390    cozumel  20.5083  -86.9458     75.99       100          40        3.44   \n",
       "223   mabaruma   8.2000  -59.7833     73.40       100          40        4.45   \n",
       "..         ...      ...       ...       ...       ...         ...         ...   \n",
       "230      nioro  13.3500  -15.7500    102.51         8         100       10.42   \n",
       "177  banikoara  11.2985    2.4386     99.37         8           0        7.61   \n",
       "298     tougan  13.0667   -3.0667    100.98         7           0       13.49   \n",
       "151      djibo  14.1022   -1.6306     98.74         7           0       13.15   \n",
       "547      kyabe   9.4515   18.9449    107.94         6          45        1.83   \n",
       "\n",
       "           Date  \n",
       "115  1613048779  \n",
       "184  1613048793  \n",
       "97   1613048776  \n",
       "390  1613048834  \n",
       "223  1613048590  \n",
       "..          ...  \n",
       "230  1613048802  \n",
       "177  1613048792  \n",
       "298  1613048816  \n",
       "151  1613048786  \n",
       "547  1613048865  \n",
       "\n",
       "[564 rows x 8 columns]"
      ]
     },
     "execution_count": 10,
     "metadata": {},
     "output_type": "execute_result"
    }
   ],
   "source": [
    "#No cities with humidity over 100% in this sample\n",
    "weather_df.sort_values(by = 'Humidity', ascending = False)    \n"
   ]
  },
  {
   "cell_type": "code",
   "execution_count": 17,
   "metadata": {},
   "outputs": [
    {
     "data": {
      "text/plain": [
       "Int64Index([], dtype='int64')"
      ]
     },
     "execution_count": 17,
     "metadata": {},
     "output_type": "execute_result"
    }
   ],
   "source": [
    "#  Get the indices of cities that have humidity over 100%.\n"
   ]
  },
  {
   "cell_type": "code",
   "execution_count": 19,
   "metadata": {},
   "outputs": [
    {
     "data": {
      "text/html": [
       "<div>\n",
       "<style scoped>\n",
       "    .dataframe tbody tr th:only-of-type {\n",
       "        vertical-align: middle;\n",
       "    }\n",
       "\n",
       "    .dataframe tbody tr th {\n",
       "        vertical-align: top;\n",
       "    }\n",
       "\n",
       "    .dataframe thead th {\n",
       "        text-align: right;\n",
       "    }\n",
       "</style>\n",
       "<table border=\"1\" class=\"dataframe\">\n",
       "  <thead>\n",
       "    <tr style=\"text-align: right;\">\n",
       "      <th></th>\n",
       "      <th>City</th>\n",
       "      <th>Lat</th>\n",
       "      <th>Lng</th>\n",
       "      <th>Max Temp</th>\n",
       "      <th>Humidity</th>\n",
       "      <th>Cloudiness</th>\n",
       "      <th>Wind Speed</th>\n",
       "      <th>Country</th>\n",
       "      <th>Date</th>\n",
       "    </tr>\n",
       "  </thead>\n",
       "  <tbody>\n",
       "    <tr>\n",
       "      <td>0</td>\n",
       "      <td>butaritari</td>\n",
       "      <td>3.07</td>\n",
       "      <td>172.79</td>\n",
       "      <td>83.32</td>\n",
       "      <td>74</td>\n",
       "      <td>84</td>\n",
       "      <td>10.42</td>\n",
       "      <td>KI</td>\n",
       "      <td>1593605283</td>\n",
       "    </tr>\n",
       "    <tr>\n",
       "      <td>1</td>\n",
       "      <td>yerbogachen</td>\n",
       "      <td>61.28</td>\n",
       "      <td>108.01</td>\n",
       "      <td>79.52</td>\n",
       "      <td>58</td>\n",
       "      <td>20</td>\n",
       "      <td>7.70</td>\n",
       "      <td>RU</td>\n",
       "      <td>1593605121</td>\n",
       "    </tr>\n",
       "    <tr>\n",
       "      <td>2</td>\n",
       "      <td>cape town</td>\n",
       "      <td>-33.93</td>\n",
       "      <td>18.42</td>\n",
       "      <td>73.00</td>\n",
       "      <td>77</td>\n",
       "      <td>27</td>\n",
       "      <td>4.70</td>\n",
       "      <td>ZA</td>\n",
       "      <td>1593605039</td>\n",
       "    </tr>\n",
       "    <tr>\n",
       "      <td>3</td>\n",
       "      <td>touba</td>\n",
       "      <td>8.28</td>\n",
       "      <td>-7.68</td>\n",
       "      <td>79.97</td>\n",
       "      <td>75</td>\n",
       "      <td>82</td>\n",
       "      <td>3.58</td>\n",
       "      <td>CI</td>\n",
       "      <td>1593605284</td>\n",
       "    </tr>\n",
       "    <tr>\n",
       "      <td>4</td>\n",
       "      <td>jamestown</td>\n",
       "      <td>42.10</td>\n",
       "      <td>-79.24</td>\n",
       "      <td>64.00</td>\n",
       "      <td>88</td>\n",
       "      <td>1</td>\n",
       "      <td>6.93</td>\n",
       "      <td>US</td>\n",
       "      <td>1593605284</td>\n",
       "    </tr>\n",
       "  </tbody>\n",
       "</table>\n",
       "</div>"
      ],
      "text/plain": [
       "          City    Lat     Lng  Max Temp  Humidity  Cloudiness  Wind Speed  \\\n",
       "0   butaritari   3.07  172.79     83.32        74          84       10.42   \n",
       "1  yerbogachen  61.28  108.01     79.52        58          20        7.70   \n",
       "2    cape town -33.93   18.42     73.00        77          27        4.70   \n",
       "3        touba   8.28   -7.68     79.97        75          82        3.58   \n",
       "4    jamestown  42.10  -79.24     64.00        88           1        6.93   \n",
       "\n",
       "  Country        Date  \n",
       "0      KI  1593605283  \n",
       "1      RU  1593605121  \n",
       "2      ZA  1593605039  \n",
       "3      CI  1593605284  \n",
       "4      US  1593605284  "
      ]
     },
     "execution_count": 19,
     "metadata": {},
     "output_type": "execute_result"
    }
   ],
   "source": [
    "# Make a new DataFrame equal to the city data to drop all humidity outliers by index.\n",
    "# Passing \"inplace=False\" will make a copy of the city_data DataFrame, which we call \"clean_city_data\".\n"
   ]
  },
  {
   "cell_type": "code",
   "execution_count": null,
   "metadata": {},
   "outputs": [],
   "source": [
    "\n"
   ]
  },
  {
   "cell_type": "markdown",
   "metadata": {},
   "source": [
    "## Plotting the Data\n",
    "* Use proper labeling of the plots using plot titles (including date of analysis) and axes labels.\n",
    "* Save the plotted figures as .pngs."
   ]
  },
  {
   "cell_type": "markdown",
   "metadata": {},
   "source": [
    "## Latitude vs. Temperature Plot"
   ]
  },
  {
   "cell_type": "code",
   "execution_count": 11,
   "metadata": {
    "scrolled": true
   },
   "outputs": [
    {
     "data": {
      "text/plain": [
       "Text(0.5, 1.0, 'City Latitude vs. Maximum Temperature (02/11/21)')"
      ]
     },
     "execution_count": 11,
     "metadata": {},
     "output_type": "execute_result"
    },
    {
     "data": {
      "image/png": "[encoded data removed]",
      "text/plain": [
       "<Figure size 432x288 with 1 Axes>"
      ]
     },
     "metadata": {
      "needs_background": "light"
     },
     "output_type": "display_data"
    }
   ],
   "source": [
    "plt.scatter(weather_df['Lat'], weather_df['Max Temp'], color = 'red', alpha = 0.5, edgecolors = 'black')\n",
    "plt.xlabel('City Latitude')\n",
    "plt.ylabel('Maximum Temperature')\n",
    "plt.title('City Latitude vs. Maximum Temperature (02/11/21)')"
   ]
  },
  {
   "cell_type": "markdown",
   "metadata": {},
   "source": [
    "## Latitude vs. Humidity Plot"
   ]
  },
  {
   "cell_type": "code",
   "execution_count": 12,
   "metadata": {},
   "outputs": [
    {
     "data": {
      "text/plain": [
       "Text(0.5, 1.0, 'City Latitude vs. Humidity (02/11/21)')"
      ]
     },
     "execution_count": 12,
     "metadata": {},
     "output_type": "execute_result"
    },
    {
     "data": {
      "image/png": "[encoded data removed]",
      "text/plain": [
       "<Figure size 432x288 with 1 Axes>"
      ]
     },
     "metadata": {
      "needs_background": "light"
     },
     "output_type": "display_data"
    }
   ],
   "source": [
    "plt.scatter(weather_df['Lat'], weather_df['Humidity'], color = 'blue', alpha = 0.5, edgecolors = 'black' )\n",
    "plt.xlabel('City Latitude')\n",
    "plt.ylabel('Humidity')\n",
    "plt.title('City Latitude vs. Humidity (02/11/21)')"
   ]
  },
  {
   "cell_type": "markdown",
   "metadata": {},
   "source": [
    "## Latitude vs. Cloudiness Plot"
   ]
  },
  {
   "cell_type": "code",
   "execution_count": 13,
   "metadata": {},
   "outputs": [
    {
     "data": {
      "text/plain": [
       "Text(0.5, 1.0, 'City Latitude vs. Cloudiness (02/11/21)')"
      ]
     },
     "execution_count": 13,
     "metadata": {},
     "output_type": "execute_result"
    },
    {
     "data": {
      "image/png": "[encoded data removed]",
      "text/plain": [
       "<Figure size 432x288 with 1 Axes>"
      ]
     },
     "metadata": {
      "needs_background": "light"
     },
     "output_type": "display_data"
    }
   ],
   "source": [
    "plt.scatter(weather_df['Lat'], weather_df['Cloudiness'], color = 'green', alpha = 0.5, edgecolors = 'black' )\n",
    "plt.xlabel('City Latitude')\n",
    "plt.ylabel('Cloudiness')\n",
    "plt.title('City Latitude vs. Cloudiness (02/11/21)')"
   ]
  },
  {
   "cell_type": "markdown",
   "metadata": {},
   "source": [
    "## Latitude vs. Wind Speed Plot"
   ]
  },
  {
   "cell_type": "code",
   "execution_count": 14,
   "metadata": {},
   "outputs": [
    {
     "data": {
      "text/plain": [
       "Text(0.5, 1.0, 'City Latitude vs. Wind Speed (02/11/21)')"
      ]
     },
     "execution_count": 14,
     "metadata": {},
     "output_type": "execute_result"
    },
    {
     "data": {
      "image/png": "[encoded data removed]",
      "text/plain": [
       "<Figure size 432x288 with 1 Axes>"
      ]
     },
     "metadata": {
      "needs_background": "light"
     },
     "output_type": "display_data"
    }
   ],
   "source": [
    "plt.scatter(weather_df['Lat'], weather_df['Wind Speed'], color = 'grey', alpha = 0.5, edgecolors = 'black' )\n",
    "plt.xlabel('City Latitude')\n",
    "plt.ylabel('Wind Speed')\n",
    "plt.title('City Latitude vs. Wind Speed (02/11/21)')"
   ]
  },
  {
   "cell_type": "markdown",
   "metadata": {},
   "source": [
    "## Linear Regression"
   ]
  },
  {
   "cell_type": "code",
   "execution_count": 17,
   "metadata": {},
   "outputs": [
    {
     "data": {
      "text/html": [
       "<div>\n",
       "<style scoped>\n",
       "    .dataframe tbody tr th:only-of-type {\n",
       "        vertical-align: middle;\n",
       "    }\n",
       "\n",
       "    .dataframe tbody tr th {\n",
       "        vertical-align: top;\n",
       "    }\n",
       "\n",
       "    .dataframe thead th {\n",
       "        text-align: right;\n",
       "    }\n",
       "</style>\n",
       "<table border=\"1\" class=\"dataframe\">\n",
       "  <thead>\n",
       "    <tr style=\"text-align: right;\">\n",
       "      <th></th>\n",
       "      <th>City</th>\n",
       "      <th>Lat</th>\n",
       "      <th>Lng</th>\n",
       "      <th>Max Temp</th>\n",
       "      <th>Humidity</th>\n",
       "      <th>Cloudiness</th>\n",
       "      <th>Wind Speed</th>\n",
       "      <th>Date</th>\n",
       "    </tr>\n",
       "  </thead>\n",
       "  <tbody>\n",
       "    <tr>\n",
       "      <th>0</th>\n",
       "      <td>punta arenas</td>\n",
       "      <td>-53.1500</td>\n",
       "      <td>-70.9167</td>\n",
       "      <td>59.00</td>\n",
       "      <td>55</td>\n",
       "      <td>0</td>\n",
       "      <td>18.41</td>\n",
       "      <td>1613048757</td>\n",
       "    </tr>\n",
       "    <tr>\n",
       "      <th>1</th>\n",
       "      <td>carnarvon</td>\n",
       "      <td>-24.8667</td>\n",
       "      <td>113.6333</td>\n",
       "      <td>75.20</td>\n",
       "      <td>83</td>\n",
       "      <td>0</td>\n",
       "      <td>24.16</td>\n",
       "      <td>1613048757</td>\n",
       "    </tr>\n",
       "    <tr>\n",
       "      <th>4</th>\n",
       "      <td>hobart</td>\n",
       "      <td>-42.8794</td>\n",
       "      <td>147.3294</td>\n",
       "      <td>66.00</td>\n",
       "      <td>77</td>\n",
       "      <td>90</td>\n",
       "      <td>9.22</td>\n",
       "      <td>1613048758</td>\n",
       "    </tr>\n",
       "    <tr>\n",
       "      <th>8</th>\n",
       "      <td>souillac</td>\n",
       "      <td>-20.5167</td>\n",
       "      <td>57.5167</td>\n",
       "      <td>84.20</td>\n",
       "      <td>61</td>\n",
       "      <td>40</td>\n",
       "      <td>11.50</td>\n",
       "      <td>1613048759</td>\n",
       "    </tr>\n",
       "    <tr>\n",
       "      <th>9</th>\n",
       "      <td>saint-philippe</td>\n",
       "      <td>-21.3585</td>\n",
       "      <td>55.7679</td>\n",
       "      <td>87.01</td>\n",
       "      <td>62</td>\n",
       "      <td>0</td>\n",
       "      <td>32.21</td>\n",
       "      <td>1613048759</td>\n",
       "    </tr>\n",
       "    <tr>\n",
       "      <th>...</th>\n",
       "      <td>...</td>\n",
       "      <td>...</td>\n",
       "      <td>...</td>\n",
       "      <td>...</td>\n",
       "      <td>...</td>\n",
       "      <td>...</td>\n",
       "      <td>...</td>\n",
       "      <td>...</td>\n",
       "    </tr>\n",
       "    <tr>\n",
       "      <th>546</th>\n",
       "      <td>innisfail</td>\n",
       "      <td>-17.5333</td>\n",
       "      <td>146.0333</td>\n",
       "      <td>77.47</td>\n",
       "      <td>87</td>\n",
       "      <td>82</td>\n",
       "      <td>3.27</td>\n",
       "      <td>1613048864</td>\n",
       "    </tr>\n",
       "    <tr>\n",
       "      <th>550</th>\n",
       "      <td>manggar</td>\n",
       "      <td>-2.8833</td>\n",
       "      <td>108.2667</td>\n",
       "      <td>79.27</td>\n",
       "      <td>84</td>\n",
       "      <td>100</td>\n",
       "      <td>8.75</td>\n",
       "      <td>1613048865</td>\n",
       "    </tr>\n",
       "    <tr>\n",
       "      <th>556</th>\n",
       "      <td>mendi</td>\n",
       "      <td>-6.1761</td>\n",
       "      <td>143.6513</td>\n",
       "      <td>55.04</td>\n",
       "      <td>96</td>\n",
       "      <td>93</td>\n",
       "      <td>2.39</td>\n",
       "      <td>1613048866</td>\n",
       "    </tr>\n",
       "    <tr>\n",
       "      <th>560</th>\n",
       "      <td>manono</td>\n",
       "      <td>-7.3000</td>\n",
       "      <td>27.4167</td>\n",
       "      <td>81.48</td>\n",
       "      <td>78</td>\n",
       "      <td>29</td>\n",
       "      <td>3.78</td>\n",
       "      <td>1613048867</td>\n",
       "    </tr>\n",
       "    <tr>\n",
       "      <th>563</th>\n",
       "      <td>ambanja</td>\n",
       "      <td>-13.6833</td>\n",
       "      <td>48.4500</td>\n",
       "      <td>87.80</td>\n",
       "      <td>75</td>\n",
       "      <td>75</td>\n",
       "      <td>9.22</td>\n",
       "      <td>1613048868</td>\n",
       "    </tr>\n",
       "  </tbody>\n",
       "</table>\n",
       "<p>173 rows × 8 columns</p>\n",
       "</div>"
      ],
      "text/plain": [
       "               City      Lat       Lng  Max Temp  Humidity  Cloudiness  \\\n",
       "0      punta arenas -53.1500  -70.9167     59.00        55           0   \n",
       "1         carnarvon -24.8667  113.6333     75.20        83           0   \n",
       "4            hobart -42.8794  147.3294     66.00        77          90   \n",
       "8          souillac -20.5167   57.5167     84.20        61          40   \n",
       "9    saint-philippe -21.3585   55.7679     87.01        62           0   \n",
       "..              ...      ...       ...       ...       ...         ...   \n",
       "546       innisfail -17.5333  146.0333     77.47        87          82   \n",
       "550         manggar  -2.8833  108.2667     79.27        84         100   \n",
       "556           mendi  -6.1761  143.6513     55.04        96          93   \n",
       "560          manono  -7.3000   27.4167     81.48        78          29   \n",
       "563         ambanja -13.6833   48.4500     87.80        75          75   \n",
       "\n",
       "     Wind Speed        Date  \n",
       "0         18.41  1613048757  \n",
       "1         24.16  1613048757  \n",
       "4          9.22  1613048758  \n",
       "8         11.50  1613048759  \n",
       "9         32.21  1613048759  \n",
       "..          ...         ...  \n",
       "546        3.27  1613048864  \n",
       "550        8.75  1613048865  \n",
       "556        2.39  1613048866  \n",
       "560        3.78  1613048867  \n",
       "563        9.22  1613048868  \n",
       "\n",
       "[173 rows x 8 columns]"
      ]
     },
     "execution_count": 17,
     "metadata": {},
     "output_type": "execute_result"
    }
   ],
   "source": [
    "northern_hemisphere_df = weather_df[weather_df['Lat'] >= 0]\n",
    "southern_hemisphere_df = weather_df[weather_df['Lat'] < 0]\n",
    "\n"
   ]
  },
  {
   "cell_type": "markdown",
   "metadata": {},
   "source": [
    "####  Northern Hemisphere - Max Temp vs. Latitude Linear Regression"
   ]
  },
  {
   "cell_type": "code",
   "execution_count": 43,
   "metadata": {},
   "outputs": [
    {
     "name": "stdout",
     "output_type": "stream",
     "text": [
      "The r-value is: -0.8695646964041636\n"
     ]
    },
    {
     "data": {
      "image/png": "[encoded data removed]",
      "text/plain": [
       "<Figure size 432x288 with 1 Axes>"
      ]
     },
     "metadata": {
      "needs_background": "light"
     },
     "output_type": "display_data"
    },
    {
     "data": {
      "text/plain": [
       "<Figure size 432x288 with 0 Axes>"
      ]
     },
     "metadata": {},
     "output_type": "display_data"
    }
   ],
   "source": [
    "x_values_latitude = northern_hemisphere_df['Lat']\n",
    "y_values_max_temp = northern_hemisphere_df['Max Temp']\n",
    "(slope, intercept, rvalue, pvalue, stderr) = linregress(x_values_latitude, y_values_max_temp)\n",
    "regress_values = x_values_latitude * slope + intercept\n",
    "line_eq = \"y = \" + str(round(slope,2)) + \"x + \" + str(round(intercept,2))\n",
    "plt.scatter(x_values_latitude,y_values_max_temp)\n",
    "plt.plot(x_values_latitude,regress_values,\"r-\")\n",
    "plt.annotate(line_eq,(0,0),fontsize=15,color=\"red\")\n",
    "plt.xlabel('Latitude')\n",
    "plt.ylabel('Max Temp (F)')\n",
    "print(f\"The r-squared value is: {rvalue}\")\n",
    "plt.show()\n",
    "plt.savefig('Output/latitude_maxtemp_northern.png')"
   ]
  },
  {
   "cell_type": "markdown",
   "metadata": {},
   "source": [
    "####  Southern Hemisphere - Max Temp vs. Latitude Linear Regression"
   ]
  },
  {
   "cell_type": "code",
   "execution_count": 44,
   "metadata": {},
   "outputs": [
    {
     "name": "stdout",
     "output_type": "stream",
     "text": [
      "The r-value is: 0.4676575951354789\n"
     ]
    },
    {
     "data": {
      "image/png": "[encoded data removed]",
      "text/plain": [
       "<Figure size 432x288 with 1 Axes>"
      ]
     },
     "metadata": {
      "needs_background": "light"
     },
     "output_type": "display_data"
    },
    {
     "data": {
      "text/plain": [
       "<Figure size 432x288 with 0 Axes>"
      ]
     },
     "metadata": {},
     "output_type": "display_data"
    }
   ],
   "source": [
    "x_values_latitude = southern_hemisphere_df['Lat']\n",
    "y_values_max_temp = southern_hemisphere_df['Max Temp']\n",
    "(slope, intercept, rvalue, pvalue, stderr) = linregress(x_values_latitude, y_values_max_temp)\n",
    "regress_values = x_values_latitude * slope + intercept\n",
    "line_eq = \"y = \" + str(round(slope,2)) + \"x + \" + str(round(intercept,2))\n",
    "plt.scatter(x_values_latitude,y_values_max_temp)\n",
    "plt.plot(x_values_latitude,regress_values,\"r-\")\n",
    "plt.annotate(line_eq,(-40,50),fontsize=15,color=\"red\")\n",
    "plt.xlabel('Latitude')\n",
    "plt.ylabel('Max Temp (F)')\n",
    "print(f\"The r-squared value is: {rvalue}\")\n",
    "plt.show()\n",
    "plt.savefig('Output/latitude_maxtemp_southern.png')"
   ]
  },
  {
   "cell_type": "markdown",
   "metadata": {},
   "source": [
    "####  Northern Hemisphere - Humidity (%) vs. Latitude Linear Regression"
   ]
  },
  {
   "cell_type": "code",
   "execution_count": 45,
   "metadata": {},
   "outputs": [
    {
     "name": "stdout",
     "output_type": "stream",
     "text": [
      "The r-value is: 0.38423455031218967\n"
     ]
    },
    {
     "data": {
      "image/png": "[encoded data removed]",
      "text/plain": [
       "<Figure size 432x288 with 1 Axes>"
      ]
     },
     "metadata": {
      "needs_background": "light"
     },
     "output_type": "display_data"
    },
    {
     "data": {
      "text/plain": [
       "<Figure size 432x288 with 0 Axes>"
      ]
     },
     "metadata": {},
     "output_type": "display_data"
    }
   ],
   "source": [
    "x_values_latitude = northern_hemisphere_df['Lat']\n",
    "y_values_humidity = northern_hemisphere_df['Humidity']\n",
    "(slope, intercept, rvalue, pvalue, stderr) = linregress(x_values_latitude, y_values_humidity)\n",
    "regress_values = x_values_latitude * slope + intercept\n",
    "line_eq = \"y = \" + str(round(slope,2)) + \"x + \" + str(round(intercept,2))\n",
    "plt.scatter(x_values_latitude,y_values_humidity)\n",
    "plt.plot(x_values_latitude,regress_values,\"r-\")\n",
    "plt.annotate(line_eq,(45, 15),fontsize=15,color=\"red\")\n",
    "plt.xlabel('Latitude')\n",
    "plt.ylabel('Humidity')\n",
    "print(f\"The r-squared value is: {rvalue}\")\n",
    "plt.show()\n",
    "plt.savefig('Output/latitude_humidity_northern.png')"
   ]
  },
  {
   "cell_type": "markdown",
   "metadata": {},
   "source": [
    "####  Southern Hemisphere - Humidity (%) vs. Latitude Linear Regression"
   ]
  },
  {
   "cell_type": "code",
   "execution_count": 46,
   "metadata": {},
   "outputs": [
    {
     "name": "stdout",
     "output_type": "stream",
     "text": [
      "The r-value is: 0.19543043218385123\n"
     ]
    },
    {
     "data": {
      "image/png": "[encoded data removed]",
      "text/plain": [
       "<Figure size 432x288 with 1 Axes>"
      ]
     },
     "metadata": {
      "needs_background": "light"
     },
     "output_type": "display_data"
    },
    {
     "data": {
      "text/plain": [
       "<Figure size 432x288 with 0 Axes>"
      ]
     },
     "metadata": {},
     "output_type": "display_data"
    }
   ],
   "source": [
    "x_values_latitude = southern_hemisphere_df['Lat']\n",
    "y_values_humidity = southern_hemisphere_df['Humidity']\n",
    "(slope, intercept, rvalue, pvalue, stderr) = linregress(x_values_latitude, y_values_humidity)\n",
    "regress_values = x_values_latitude * slope + intercept\n",
    "line_eq = \"y = \" + str(round(slope,2)) + \"x + \" + str(round(intercept,2))\n",
    "plt.scatter(x_values_latitude,y_values_humidity)\n",
    "plt.plot(x_values_latitude,regress_values,\"r-\")\n",
    "plt.annotate(line_eq,(-50, 20),fontsize=15,color=\"red\")\n",
    "plt.xlabel('Latitude')\n",
    "plt.ylabel('Humidity')\n",
    "print(f\"The r-squared value is: {rvalue}\")\n",
    "plt.show()\n",
    "plt.savefig('Output/latitude_humidity_southern.png')"
   ]
  },
  {
   "cell_type": "markdown",
   "metadata": {},
   "source": [
    "####  Northern Hemisphere - Cloudiness (%) vs. Latitude Linear Regression"
   ]
  },
  {
   "cell_type": "code",
   "execution_count": 47,
   "metadata": {},
   "outputs": [
    {
     "name": "stdout",
     "output_type": "stream",
     "text": [
      "The r-value is: 0.07570948639098624\n"
     ]
    },
    {
     "data": {
      "image/png": "[encoded data removed]",
      "text/plain": [
       "<Figure size 432x288 with 1 Axes>"
      ]
     },
     "metadata": {
      "needs_background": "light"
     },
     "output_type": "display_data"
    },
    {
     "data": {
      "text/plain": [
       "<Figure size 432x288 with 0 Axes>"
      ]
     },
     "metadata": {},
     "output_type": "display_data"
    }
   ],
   "source": [
    "x_values_latitude = northern_hemisphere_df['Lat']\n",
    "y_values_cloudiness = northern_hemisphere_df['Cloudiness']\n",
    "(slope, intercept, rvalue, pvalue, stderr) = linregress(x_values_latitude, y_values_cloudiness)\n",
    "regress_values = x_values_latitude * slope + intercept\n",
    "line_eq = \"y = \" + str(round(slope,2)) + \"x + \" + str(round(intercept,2))\n",
    "plt.scatter(x_values_latitude,y_values_cloudiness)\n",
    "plt.plot(x_values_latitude,regress_values,\"r-\")\n",
    "plt.annotate(line_eq,(45, 15),fontsize=15,color=\"red\")\n",
    "plt.xlabel('Latitude')\n",
    "plt.ylabel('Cloudiness')\n",
    "print(f\"The r-squared value is: {rvalue}\")\n",
    "plt.show()\n",
    "plt.savefig('Output/latitude_cloudiness_northern.png')"
   ]
  },
  {
   "cell_type": "markdown",
   "metadata": {},
   "source": [
    "####  Southern Hemisphere - Cloudiness (%) vs. Latitude Linear Regression"
   ]
  },
  {
   "cell_type": "code",
   "execution_count": 49,
   "metadata": {},
   "outputs": [
    {
     "name": "stdout",
     "output_type": "stream",
     "text": [
      "The r-value is: 0.31162057586827807\n"
     ]
    },
    {
     "data": {
      "image/png": "[encoded data removed]",
      "text/plain": [
       "<Figure size 432x288 with 1 Axes>"
      ]
     },
     "metadata": {
      "needs_background": "light"
     },
     "output_type": "display_data"
    },
    {
     "data": {
      "text/plain": [
       "<Figure size 432x288 with 0 Axes>"
      ]
     },
     "metadata": {},
     "output_type": "display_data"
    }
   ],
   "source": [
    "x_values_latitude = southern_hemisphere_df['Lat']\n",
    "y_values_cloudiness = southern_hemisphere_df['Cloudiness']\n",
    "(slope, intercept, rvalue, pvalue, stderr) = linregress(x_values_latitude, y_values_cloudiness)\n",
    "regress_values = x_values_latitude * slope + intercept\n",
    "line_eq = \"y = \" + str(round(slope,2)) + \"x + \" + str(round(intercept,2))\n",
    "plt.scatter(x_values_latitude,y_values_cloudiness)\n",
    "plt.plot(x_values_latitude,regress_values,\"r-\")\n",
    "plt.annotate(line_eq,(-50, 20),fontsize=15,color=\"red\")\n",
    "plt.xlabel('Latitude')\n",
    "plt.ylabel('Cloudiness')\n",
    "print(f\"The r-squared value is: {rvalue}\")\n",
    "plt.show()\n",
    "plt.savefig('Output/latitude_cloudiness_southern.png')"
   ]
  },
  {
   "cell_type": "markdown",
   "metadata": {},
   "source": [
    "####  Northern Hemisphere - Wind Speed (mph) vs. Latitude Linear Regression"
   ]
  },
  {
   "cell_type": "code",
   "execution_count": 53,
   "metadata": {},
   "outputs": [
    {
     "name": "stdout",
     "output_type": "stream",
     "text": [
      "The r-value is: 0.00939625730767832\n"
     ]
    },
    {
     "data": {
      "image/png": "[encoded data removed]",
      "text/plain": [
       "<Figure size 432x288 with 1 Axes>"
      ]
     },
     "metadata": {
      "needs_background": "light"
     },
     "output_type": "display_data"
    },
    {
     "data": {
      "text/plain": [
       "<Figure size 432x288 with 0 Axes>"
      ]
     },
     "metadata": {},
     "output_type": "display_data"
    }
   ],
   "source": [
    "x_values_latitude = northern_hemisphere_df['Lat']\n",
    "y_values_windspeed = northern_hemisphere_df['Wind Speed']\n",
    "(slope, intercept, rvalue, pvalue, stderr) = linregress(x_values_latitude, y_values_windspeed)\n",
    "regress_values = x_values_latitude * slope + intercept\n",
    "line_eq = \"y = \" + str(round(slope,2)) + \"x + \" + str(round(intercept,2))\n",
    "plt.scatter(x_values_latitude,y_values_windspeed)\n",
    "plt.plot(x_values_latitude,regress_values,\"r-\")\n",
    "plt.annotate(line_eq,(10, 40),fontsize=15,color=\"red\")\n",
    "plt.xlabel('Latitude')\n",
    "plt.ylabel('Wind Speed')\n",
    "print(f\"The r-squared value is: {rvalue}\")\n",
    "plt.show()\n",
    "plt.savefig('Output/latitude_cloudiness_southern.png')"
   ]
  },
  {
   "cell_type": "markdown",
   "metadata": {},
   "source": [
    "####  Southern Hemisphere - Wind Speed (mph) vs. Latitude Linear Regression"
   ]
  },
  {
   "cell_type": "code",
   "execution_count": 56,
   "metadata": {},
   "outputs": [
    {
     "name": "stdout",
     "output_type": "stream",
     "text": [
      "The r-value is: -0.16682074914693445\n"
     ]
    },
    {
     "data": {
      "image/png": "[encoded data removed]",
      "text/plain": [
       "<Figure size 432x288 with 1 Axes>"
      ]
     },
     "metadata": {
      "needs_background": "light"
     },
     "output_type": "display_data"
    },
    {
     "data": {
      "text/plain": [
       "<Figure size 432x288 with 0 Axes>"
      ]
     },
     "metadata": {},
     "output_type": "display_data"
    }
   ],
   "source": [
    "x_values_latitude = southern_hemisphere_df['Lat']\n",
    "y_values_windspeed = southern_hemisphere_df['Wind Speed']\n",
    "(slope, intercept, rvalue, pvalue, stderr) = linregress(x_values_latitude, y_values_windspeed)\n",
    "regress_values = x_values_latitude * slope + intercept\n",
    "line_eq = \"y = \" + str(round(slope,2)) + \"x + \" + str(round(intercept,2))\n",
    "plt.scatter(x_values_latitude,y_values_windspeed)\n",
    "plt.plot(x_values_latitude,regress_values,\"r-\")\n",
    "plt.annotate(line_eq,(-50, 25),fontsize=15,color=\"red\")\n",
    "plt.xlabel('Latitude')\n",
    "plt.ylabel('Wind Speed')\n",
    "print(f\"The r-squared value is: {rvalue}\")\n",
    "plt.show()\n",
    "plt.savefig('Output/latitude_cloudiness_southern.png')"
   ]
  },
  {
   "cell_type": "markdown",
   "metadata": {},
   "source": [
    "Observable Trends:\n",
    "\n",
    "1. There is a strong trend downward when comparing maximum temperature to latitude in the Northern Hemisphere, but this    trend is inverted when the Southern Hemisphere is observed.\n",
    "2. There seems to be a small correlation between cloudiness and latitude in the Southern Hemisphere, but very little correlation in the northern hemisphere.\n",
    "3. It looks as thought here is very little correlation between wind speed and latitude in either hemisphere."
   ]
  }
 ],
 "metadata": {
  "anaconda-cloud": {},
  "kernel_info": {
   "name": "python3"
  },
  "kernelspec": {
   "display_name": "Python 3",
   "language": "python",
   "name": "python3"
  },
  "language_info": {
   "codemirror_mode": {
    "name": "ipython",
    "version": 3
   },
   "file_extension": ".py",
   "mimetype": "text/x-python",
   "name": "python",
   "nbconvert_exporter": "python",
   "pygments_lexer": "ipython3",
   "version": "3.8.5"
  },
  "latex_envs": {
   "LaTeX_envs_menu_present": true,
   "autoclose": false,
   "autocomplete": true,
   "bibliofile": "biblio.bib",
   "cite_by": "apalike",
   "current_citInitial": 1,
   "eqLabelWithNumbers": true,
   "eqNumInitial": 1,
   "hotkeys": {
    "equation": "Ctrl-E",
    "itemize": "Ctrl-I"
   },
   "labels_anchors": false,
   "latex_user_defs": false,
   "report_style_numbering": false,
   "user_envs_cfg": false
  },
  "nteract": {
   "version": "0.12.3"
  }
 },
 "nbformat": 4,
 "nbformat_minor": 2
}
